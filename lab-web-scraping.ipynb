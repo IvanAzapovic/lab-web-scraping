{
 "cells": [
  {
   "cell_type": "markdown",
   "id": "7e7a1ab8-2599-417d-9a65-25ef07f3a786",
   "metadata": {
    "id": "7e7a1ab8-2599-417d-9a65-25ef07f3a786"
   },
   "source": [
    "# Lab | Web Scraping"
   ]
  },
  {
   "cell_type": "markdown",
   "id": "ce8882fc-4815-4567-92fa-b4816358ba7d",
   "metadata": {
    "id": "ce8882fc-4815-4567-92fa-b4816358ba7d"
   },
   "source": [
    "Welcome to the \"Books to Scrape\" Web Scraping Adventure Lab!\n",
    "\n",
    "**Objective**\n",
    "\n",
    "In this lab, we will embark on a mission to unearth valuable insights from the data available on Books to Scrape, an online platform showcasing a wide variety of books. As data analyst, you have been tasked with scraping a specific subset of book data from Books to Scrape to assist publishing companies in understanding the landscape of highly-rated books across different genres. Your insights will help shape future book marketing strategies and publishing decisions.\n",
    "\n",
    "**Background**\n",
    "\n",
    "In a world where data has become the new currency, businesses are leveraging big data to make informed decisions that drive success and profitability. The publishing industry, much like others, utilizes data analytics to understand market trends, reader preferences, and the performance of books based on factors such as genre, author, and ratings. Books to Scrape serves as a rich source of such data, offering detailed information about a diverse range of books, making it an ideal platform for extracting insights to aid in informed decision-making within the literary world.\n",
    "\n",
    "**Task**\n",
    "\n",
    "Your task is to create a Python script using BeautifulSoup and pandas to scrape Books to Scrape book data, focusing on book ratings and genres. The script should be able to filter books with ratings above a certain threshold and in specific genres. Additionally, the script should structure the scraped data in a tabular format using pandas for further analysis.\n",
    "\n",
    "**Expected Outcome**\n",
    "\n",
    "A function named `scrape_books` that takes two parameters: `min_rating` and `max_price`. The function should scrape book data from the \"Books to Scrape\" website and return a `pandas` DataFrame with the following columns:\n",
    "\n",
    "**Expected Outcome**\n",
    "\n",
    "- A function named `scrape_books` that takes two parameters: `min_rating` and `max_price`.\n",
    "- The function should return a DataFrame with the following columns:\n",
    "  - **UPC**: The Universal Product Code (UPC) of the book.\n",
    "  - **Title**: The title of the book.\n",
    "  - **Price (£)**: The price of the book in pounds.\n",
    "  - **Rating**: The rating of the book (1-5 stars).\n",
    "  - **Genre**: The genre of the book.\n",
    "  - **Availability**: Whether the book is in stock or not.\n",
    "  - **Description**: A brief description or product description of the book (if available).\n",
    "  \n",
    "You will execute this script to scrape data for books with a minimum rating of `4.0 and above` and a maximum price of `£20`. \n",
    "\n",
    "Remember to experiment with different ratings and prices to ensure your code is versatile and can handle various searches effectively!\n",
    "\n",
    "**Resources**\n",
    "\n",
    "- [Beautiful Soup Documentation](https://www.crummy.com/software/BeautifulSoup/bs4/doc/)\n",
    "- [Pandas Documentation](https://pandas.pydata.org/pandas-docs/stable/index.html)\n",
    "- [Books to Scrape](https://books.toscrape.com/)\n"
   ]
  },
  {
   "cell_type": "markdown",
   "id": "3519921d-5890-445b-9a33-934ed8ee378c",
   "metadata": {
    "id": "3519921d-5890-445b-9a33-934ed8ee378c"
   },
   "source": [
    "**Hint**\n",
    "\n",
    "Your first mission is to familiarize yourself with the **Books to Scrape** website. Navigate to [Books to Scrape](http://books.toscrape.com/) and explore the available books to understand their layout and structure. \n",
    "\n",
    "Next, think about how you can set parameters for your data extraction:\n",
    "\n",
    "- **Minimum Rating**: Focus on books with a rating of 4.0 and above.\n",
    "- **Maximum Price**: Filter for books priced up to £20.\n",
    "\n",
    "After reviewing the site, you can construct a plan for scraping relevant data. Pay attention to the details displayed for each book, including the title, price, rating, and availability. This will help you identify the correct HTML elements to target with your scraping script.\n",
    "\n",
    "Make sure to build your scraping URL and logic based on the patterns you observe in the HTML structure of the book listings!"
   ]
  },
  {
   "cell_type": "markdown",
   "id": "25a83a0d-a742-49f6-985e-e27887cbf922",
   "metadata": {
    "id": "25a83a0d-a742-49f6-985e-e27887cbf922"
   },
   "source": [
    "\n",
    "---\n",
    "\n",
    "**Best of luck! Immerse yourself in the world of books, and may the data be with you!**"
   ]
  },
  {
   "cell_type": "markdown",
   "id": "7b75cf0d-9afa-4eec-a9e2-befeac68b2a0",
   "metadata": {
    "id": "7b75cf0d-9afa-4eec-a9e2-befeac68b2a0"
   },
   "source": [
    "**Important Note**:\n",
    "\n",
    "In the fast-changing online world, websites often update and change their structures. When you try this lab, the **Books to Scrape** website might differ from what you expect.\n",
    "\n",
    "If you encounter issues due to these changes, like new rules or obstacles preventing data extraction, don’t worry! Get creative.\n",
    "\n",
    "You can choose another website that interests you and is suitable for scraping data. Options like Wikipedia, The New York Times, or even library databases are great alternatives. The main goal remains the same: extract useful data and enhance your web scraping skills while exploring a source of information you enjoy. This is your opportunity to practice and adapt to different web environments!"
   ]
  },
  {
   "cell_type": "code",
   "execution_count": 1,
   "id": "40359eee-9cd7-4884-bfa4-83344c222305",
   "metadata": {
    "id": "40359eee-9cd7-4884-bfa4-83344c222305"
   },
   "outputs": [
    {
     "name": "stdout",
     "output_type": "stream",
     "text": [
      "Defaulting to user installation because normal site-packages is not writeable\n",
      "Requirement already satisfied: requests in c:\\programdata\\anaconda3\\lib\\site-packages (2.32.3)\n",
      "Requirement already satisfied: beautifulsoup4 in c:\\programdata\\anaconda3\\lib\\site-packages (4.12.3)\n",
      "Requirement already satisfied: charset-normalizer<4,>=2 in c:\\programdata\\anaconda3\\lib\\site-packages (from requests) (3.3.2)\n",
      "Requirement already satisfied: idna<4,>=2.5 in c:\\programdata\\anaconda3\\lib\\site-packages (from requests) (3.7)\n",
      "Requirement already satisfied: urllib3<3,>=1.21.1 in c:\\programdata\\anaconda3\\lib\\site-packages (from requests) (2.2.3)\n",
      "Requirement already satisfied: certifi>=2017.4.17 in c:\\programdata\\anaconda3\\lib\\site-packages (from requests) (2024.8.30)\n",
      "Requirement already satisfied: soupsieve>1.2 in c:\\programdata\\anaconda3\\lib\\site-packages (from beautifulsoup4) (2.5)\n"
     ]
    }
   ],
   "source": [
    "!pip install requests beautifulsoup4"
   ]
  },
  {
   "cell_type": "code",
   "execution_count": 101,
   "id": "a5740d81-38b9-4bd8-b7c3-240e35456ff0",
   "metadata": {},
   "outputs": [
    {
     "data": {
      "text/plain": [
       "<Response [200]>"
      ]
     },
     "execution_count": 101,
     "metadata": {},
     "output_type": "execute_result"
    }
   ],
   "source": [
    "import requests\n",
    "\n",
    "url = \"https://books.toscrape.com/catalogue/set-me-free_988/index.html\"\n",
    "response = requests.get(url)\n",
    "response"
   ]
  },
  {
   "cell_type": "code",
   "execution_count": 103,
   "id": "ed60e865-0aaf-4170-a6be-183b9c2d7b58",
   "metadata": {},
   "outputs": [
    {
     "data": {
      "text/plain": [
       "b'\\n\\n<!DOCTYPE html>\\n<!--[if lt IE 7]>      <html lang=\"en-us\" class=\"no-js lt-ie9 lt-ie8 lt-ie7\"> <![endif]-->\\n<!--[if IE 7]>         <html lang=\"en-us\" class=\"no-js lt-ie9 lt-ie8\"> <![endif]-->\\n<!--[if IE 8]>         <html lang=\"en-us\" class=\"no-js lt-ie9\"> <![endif]-->\\n<!--[if gt IE 8]><!--> <html lang=\"en-us\" class=\"no-js\"> <!--<![endif]-->\\n    <head>\\n        <title>\\n    Set Me Free | Books to Scrape - Sandbox\\n</title>\\n\\n        <meta http-equiv=\"content-type\" content=\"text/html; charset=UTF-8\" />\\n        <meta name=\"created\" content=\"24th Jun 2016 09:29\" />\\n        <meta name=\"description\" content=\"\\n    Aaron Ledbetter\\xe2\\x80\\x99s future had been planned out for him since before he was born. Each year, the Ledbetter family vacation on Tybee Island gave Aaron a chance to briefly free himself from his family\\xe2\\x80\\x99s expectations. When he meets Jonas \\xe2\\x80\\x9cLucky\\xe2\\x80\\x9d Luckett, a caricature artist in town with the traveling carnival, he must choose between the life that\\xe2\\x80\\x99s been mapped out for him, and Aaron Ledbetter\\xe2\\x80\\x99s future had been planned out for him since before he was born. Each year, the Ledbetter family vacation on Tybee Island gave Aaron a chance to briefly free himself from his family\\xe2\\x80\\x99s expectations. When he meets Jonas \\xe2\\x80\\x9cLucky\\xe2\\x80\\x9d Luckett, a caricature artist in town with the traveling carnival, he must choose between the life that\\xe2\\x80\\x99s been mapped out for him, and the chance at true love. ...more\\n\" />\\n        <meta name=\"viewport\" content=\"width=device-width\" />\\n        <meta name=\"robots\" content=\"NOARCHIVE,NOCACHE\" />\\n\\n        <!-- Le HTML5 shim, for IE6-8 support of HTML elements -->\\n        <!--[if lt IE 9]>\\n        <script src=\"//html5shim.googlecode.com/svn/trunk/html5.js\"></script>\\n        <![endif]-->\\n\\n        \\n            <link rel=\"shortcut icon\" href=\"../../static/oscar/favicon.ico\" />\\n        \\n\\n        \\n        \\n    \\n    \\n        <link rel=\"stylesheet\" type=\"text/css\" href=\"../../static/oscar/css/styles.css\" />\\n    \\n    <link rel=\"stylesheet\" href=\"../../static/oscar/js/bootstrap-datetimepicker/bootstrap-datetimepicker.css\" />\\n    <link rel=\"stylesheet\" type=\"text/css\" href=\"../../static/oscar/css/datetimepicker.css\" />\\n\\n\\n        \\n        \\n\\n        \\n\\n        \\n            \\n            \\n\\n        \\n    </head>\\n\\n    <body id=\"default\" class=\"default\">\\n        \\n        \\n    \\n    \\n    <header class=\"header container-fluid\">\\n        <div class=\"page_inner\">\\n            <div class=\"row\">\\n                <div class=\"col-sm-8 h1\"><a href=\"../../index.html\">Books to Scrape</a><small> We love being scraped!</small>\\n</div>\\n\\n                \\n            </div>\\n        </div>\\n    </header>\\n\\n    \\n    \\n        <div class=\"container-fluid page\">\\n            <div class=\"page_inner\">\\n                \\n<ul class=\"breadcrumb\">\\n    <li>\\n        <a href=\"../../index.html\">Home</a>\\n    </li>\\n    \\n        \\n        <li>\\n            <a href=\"../category/books_1/index.html\">Books</a>\\n        </li>\\n        \\n        <li>\\n            <a href=\"../category/books/young-adult_21/index.html\">Young Adult</a>\\n        </li>\\n        \\n        <li class=\"active\">Set Me Free</li>\\n\\n        \\n        \\n    \\n</ul>\\n\\n                \\n\\n                \\n\\n\\n\\n<div id=\"messages\">\\n\\n</div>\\n\\n                \\n                <div class=\"content\">\\n                    \\n\\n                    \\n                    <div id=\"promotions\">\\n                        \\n                    </div>\\n\\n                    \\n                    <div id=\"content_inner\">\\n\\n<article class=\"product_page\"><!-- Start of product page -->\\n\\n    <div class=\"row\">\\n\\n        \\n        <div class=\"col-sm-6\">\\n            \\n\\n\\n\\n\\n    \\n\\n    \\n\\n        \\n        <div id=\"product_gallery\" class=\"carousel\">\\n            <div class=\"thumbnail\">\\n                <div class=\"carousel-inner\">\\n                    <div class=\"item active\">\\n                    \\n                        \\n                            <img src=\"../../media/cache/b8/e9/b8e91bd2fc74c3954118999238abb4b8.jpg\" alt=\"Set Me Free\" />\\n                        \\n                    \\n                    </div>\\n                </div>\\n            </div>\\n        </div>\\n\\n    \\n\\n\\n        </div>\\n        \\n\\n        \\n        <div class=\"col-sm-6 product_main\">\\n            \\n            \\n            <h1>Set Me Free</h1>\\n\\n            \\n                \\n\\n\\n\\n\\n\\n\\n    \\n        <p class=\"price_color\">\\xc2\\xa317.46</p>\\n    \\n\\n<p class=\"instock availability\">\\n    <i class=\"icon-ok\"></i>\\n    \\n        In stock (19 available)\\n    \\n</p>\\n\\n            \\n\\n            \\n                \\n\\n\\n\\n    <p class=\"star-rating Five\">\\n        <i class=\"icon-star\"></i>\\n        <i class=\"icon-star\"></i>\\n        <i class=\"icon-star\"></i>\\n        <i class=\"icon-star\"></i>\\n        <i class=\"icon-star\"></i>\\n\\n        <!-- <small><a href=\"/catalogue/set-me-free_988/reviews/\">\\n        \\n                \\n                    0 customer reviews\\n                \\n        </a></small>\\n         -->&nbsp;\\n\\n\\n<!-- \\n    <a id=\"write_review\" href=\"/catalogue/set-me-free_988/reviews/add/#addreview\" class=\"btn btn-success btn-sm\">\\n        Write a review\\n    </a>\\n\\n --></p>\\n\\n            \\n\\n            <hr/>\\n\\n            <div class=\"alert alert-warning\" role=\"alert\"><strong>Warning!</strong> This is a demo website for web scraping purposes. Prices and ratings here were randomly assigned and have no real meaning.</div>\\n\\n\\n            \\n                \\n\\n\\n\\n\\n\\n\\n            \\n        </div><!-- /col-sm-6 -->\\n        \\n\\n    </div><!-- /row -->\\n\\n    \\n        \\n        <div id=\"product_description\" class=\"sub-header\">\\n            <h2>Product Description</h2>\\n        </div>\\n        <p>Aaron Ledbetter\\xe2\\x80\\x99s future had been planned out for him since before he was born. Each year, the Ledbetter family vacation on Tybee Island gave Aaron a chance to briefly free himself from his family\\xe2\\x80\\x99s expectations. When he meets Jonas \\xe2\\x80\\x9cLucky\\xe2\\x80\\x9d Luckett, a caricature artist in town with the traveling carnival, he must choose between the life that\\xe2\\x80\\x99s been mapped out for him, and Aaron Ledbetter\\xe2\\x80\\x99s future had been planned out for him since before he was born. Each year, the Ledbetter family vacation on Tybee Island gave Aaron a chance to briefly free himself from his family\\xe2\\x80\\x99s expectations. When he meets Jonas \\xe2\\x80\\x9cLucky\\xe2\\x80\\x9d Luckett, a caricature artist in town with the traveling carnival, he must choose between the life that\\xe2\\x80\\x99s been mapped out for him, and the chance at true love. ...more</p>\\n        \\n    \\n\\n    \\n    <div class=\"sub-header\">\\n        <h2>Product Information</h2>\\n    </div>\\n    <table class=\"table table-striped\">\\n        \\n        <tr>\\n            <th>UPC</th><td>ce6396b0f23f6ecc</td>\\n        </tr>\\n        \\n        <tr>\\n            <th>Product Type</th><td>Books</td>\\n        </tr>\\n\\n        \\n        \\n            <tr>\\n                <th>Price (excl. tax)</th><td>\\xc2\\xa317.46</td>\\n            </tr>\\n            \\n                <tr>\\n                    <th>Price (incl. tax)</th><td>\\xc2\\xa317.46</td>\\n                </tr>\\n                <tr>\\n                    <th>Tax</th><td>\\xc2\\xa30.00</td>\\n                </tr>\\n            \\n            <tr>\\n                <th>Availability</th>\\n                <td>In stock (19 available)</td>\\n            </tr>\\n        \\n        \\n        \\n            <tr>\\n                <th>Number of reviews</th>\\n                <td>0</td>\\n            </tr>\\n        \\n    </table>\\n    \\n\\n    \\n        \\n        <section>\\n            <div id=\"reviews\" class=\"sub-header\">\\n            </div>\\n        </section>\\n        \\n    \\n\\n    \\n        \\n    \\n\\n    \\n\\n\\n\\n    \\n        <div class=\"sub-header\">\\n            <h2>Products you recently viewed</h2>\\n        </div>\\n\\n        <ul class=\"row\">\\n            \\n                <li class=\"col-xs-6 col-sm-4 col-md-3 col-lg-3\">\\n\\n\\n\\n\\n\\n\\n    <article class=\"product_pod\">\\n        \\n            <div class=\"image_container\">\\n                \\n                    \\n                    <a href=\"../shakespeares-sonnets_989/index.html\"><img src=\"../../media/cache/10/48/1048f63d3b5061cd2f424d20b3f9b666.jpg\" alt=\"Shakespeare&#39;s Sonnets\" class=\"thumbnail\"></a>\\n                    \\n                \\n            </div>\\n        \\n\\n        \\n            \\n                <p class=\"star-rating Four\">\\n                    <i class=\"icon-star\"></i>\\n                    <i class=\"icon-star\"></i>\\n                    <i class=\"icon-star\"></i>\\n                    <i class=\"icon-star\"></i>\\n                    <i class=\"icon-star\"></i>\\n                </p>\\n            \\n        \\n\\n        \\n            <h3><a href=\"../shakespeares-sonnets_989/index.html\" title=\"Shakespeare&#39;s Sonnets\">Shakespeare&#39;s Sonnets</a></h3>\\n        \\n\\n        \\n            <div class=\"product_price\">\\n                \\n\\n\\n\\n\\n\\n\\n    \\n        <p class=\"price_color\">\\xc2\\xa320.66</p>\\n    \\n\\n<p class=\"instock availability\">\\n    <i class=\"icon-ok\"></i>\\n    \\n        In stock\\n    \\n</p>\\n\\n                \\n                    \\n\\n\\n\\n\\n\\n\\n    \\n    <form>\\n        <button type=\"submit\" class=\"btn btn-primary btn-block\" data-loading-text=\"Adding...\">Add to basket</button>\\n    </form>\\n\\n\\n                \\n            </div>\\n        \\n    </article>\\n\\n</li>\\n            \\n                <li class=\"col-xs-6 col-sm-4 col-md-3 col-lg-3\">\\n\\n\\n\\n\\n\\n\\n    <article class=\"product_pod\">\\n        \\n            <div class=\"image_container\">\\n                \\n                    \\n                    <a href=\"../starving-hearts-triangular-trade-trilogy-1_990/index.html\"><img src=\"../../media/cache/be/f4/bef44da28c98f905a3ebec0b87be8530.jpg\" alt=\"Starving Hearts (Triangular Trade Trilogy, #1)\" class=\"thumbnail\"></a>\\n                    \\n                \\n            </div>\\n        \\n\\n        \\n            \\n                <p class=\"star-rating Two\">\\n                    <i class=\"icon-star\"></i>\\n                    <i class=\"icon-star\"></i>\\n                    <i class=\"icon-star\"></i>\\n                    <i class=\"icon-star\"></i>\\n                    <i class=\"icon-star\"></i>\\n                </p>\\n            \\n        \\n\\n        \\n            <h3><a href=\"../starving-hearts-triangular-trade-trilogy-1_990/index.html\" title=\"Starving Hearts (Triangular Trade Trilogy, #1)\">Starving Hearts (Triangular Trade ...</a></h3>\\n        \\n\\n        \\n            <div class=\"product_price\">\\n                \\n\\n\\n\\n\\n\\n\\n    \\n        <p class=\"price_color\">\\xc2\\xa313.99</p>\\n    \\n\\n<p class=\"instock availability\">\\n    <i class=\"icon-ok\"></i>\\n    \\n        In stock\\n    \\n</p>\\n\\n                \\n                    \\n\\n\\n\\n\\n\\n\\n    \\n    <form>\\n        <button type=\"submit\" class=\"btn btn-primary btn-block\" data-loading-text=\"Adding...\">Add to basket</button>\\n    </form>\\n\\n\\n                \\n            </div>\\n        \\n    </article>\\n\\n</li>\\n            \\n                <li class=\"col-xs-6 col-sm-4 col-md-3 col-lg-3\">\\n\\n\\n\\n\\n\\n\\n    <article class=\"product_pod\">\\n        \\n            <div class=\"image_container\">\\n                \\n                    \\n                    <a href=\"../the-black-maria_991/index.html\"><img src=\"../../media/cache/58/46/5846057e28022268153beff6d352b06c.jpg\" alt=\"The Black Maria\" class=\"thumbnail\"></a>\\n                    \\n                \\n            </div>\\n        \\n\\n        \\n            \\n                <p class=\"star-rating One\">\\n                    <i class=\"icon-star\"></i>\\n                    <i class=\"icon-star\"></i>\\n                    <i class=\"icon-star\"></i>\\n                    <i class=\"icon-star\"></i>\\n                    <i class=\"icon-star\"></i>\\n                </p>\\n            \\n        \\n\\n        \\n            <h3><a href=\"../the-black-maria_991/index.html\" title=\"The Black Maria\">The Black Maria</a></h3>\\n        \\n\\n        \\n            <div class=\"product_price\">\\n                \\n\\n\\n\\n\\n\\n\\n    \\n        <p class=\"price_color\">\\xc2\\xa352.15</p>\\n    \\n\\n<p class=\"instock availability\">\\n    <i class=\"icon-ok\"></i>\\n    \\n        In stock\\n    \\n</p>\\n\\n                \\n                    \\n\\n\\n\\n\\n\\n\\n    \\n    <form>\\n        <button type=\"submit\" class=\"btn btn-primary btn-block\" data-loading-text=\"Adding...\">Add to basket</button>\\n    </form>\\n\\n\\n                \\n            </div>\\n        \\n    </article>\\n\\n</li>\\n            \\n                <li class=\"col-xs-6 col-sm-4 col-md-3 col-lg-3\">\\n\\n\\n\\n\\n\\n\\n    <article class=\"product_pod\">\\n        \\n            <div class=\"image_container\">\\n                \\n                    \\n                    <a href=\"../the-boys-in-the-boat-nine-americans-and-their-epic-quest-for-gold-at-the-1936-berlin-olympics_992/index.html\"><img src=\"../../media/cache/66/88/66883b91f6804b2323c8369331cb7dd1.jpg\" alt=\"The Boys in the Boat: Nine Americans and Their Epic Quest for Gold at the 1936 Berlin Olympics\" class=\"thumbnail\"></a>\\n                    \\n                \\n            </div>\\n        \\n\\n        \\n            \\n                <p class=\"star-rating Four\">\\n                    <i class=\"icon-star\"></i>\\n                    <i class=\"icon-star\"></i>\\n                    <i class=\"icon-star\"></i>\\n                    <i class=\"icon-star\"></i>\\n                    <i class=\"icon-star\"></i>\\n                </p>\\n            \\n        \\n\\n        \\n            <h3><a href=\"../the-boys-in-the-boat-nine-americans-and-their-epic-quest-for-gold-at-the-1936-berlin-olympics_992/index.html\" title=\"The Boys in the Boat: Nine Americans and Their Epic Quest for Gold at the 1936 Berlin Olympics\">The Boys in the ...</a></h3>\\n        \\n\\n        \\n            <div class=\"product_price\">\\n                \\n\\n\\n\\n\\n\\n\\n    \\n        <p class=\"price_color\">\\xc2\\xa322.60</p>\\n    \\n\\n<p class=\"instock availability\">\\n    <i class=\"icon-ok\"></i>\\n    \\n        In stock\\n    \\n</p>\\n\\n                \\n                    \\n\\n\\n\\n\\n\\n\\n    \\n    <form>\\n        <button type=\"submit\" class=\"btn btn-primary btn-block\" data-loading-text=\"Adding...\">Add to basket</button>\\n    </form>\\n\\n\\n                \\n            </div>\\n        \\n    </article>\\n\\n</li>\\n            \\n                <li class=\"col-xs-6 col-sm-4 col-md-3 col-lg-3\">\\n\\n\\n\\n\\n\\n\\n    <article class=\"product_pod\">\\n        \\n            <div class=\"image_container\">\\n                \\n                    \\n                    <a href=\"../the-coming-woman-a-novel-based-on-the-life-of-the-infamous-feminist-victoria-woodhull_993/index.html\"><img src=\"../../media/cache/3d/54/3d54940e57e662c4dd1f3ff00c78cc64.jpg\" alt=\"The Coming Woman: A Novel Based on the Life of the Infamous Feminist, Victoria Woodhull\" class=\"thumbnail\"></a>\\n                    \\n                \\n            </div>\\n        \\n\\n        \\n            \\n                <p class=\"star-rating Three\">\\n                    <i class=\"icon-star\"></i>\\n                    <i class=\"icon-star\"></i>\\n                    <i class=\"icon-star\"></i>\\n                    <i class=\"icon-star\"></i>\\n                    <i class=\"icon-star\"></i>\\n                </p>\\n            \\n        \\n\\n        \\n            <h3><a href=\"../the-coming-woman-a-novel-based-on-the-life-of-the-infamous-feminist-victoria-woodhull_993/index.html\" title=\"The Coming Woman: A Novel Based on the Life of the Infamous Feminist, Victoria Woodhull\">The Coming Woman: A ...</a></h3>\\n        \\n\\n        \\n            <div class=\"product_price\">\\n                \\n\\n\\n\\n\\n\\n\\n    \\n        <p class=\"price_color\">\\xc2\\xa317.93</p>\\n    \\n\\n<p class=\"instock availability\">\\n    <i class=\"icon-ok\"></i>\\n    \\n        In stock\\n    \\n</p>\\n\\n                \\n                    \\n\\n\\n\\n\\n\\n\\n    \\n    <form>\\n        <button type=\"submit\" class=\"btn btn-primary btn-block\" data-loading-text=\"Adding...\">Add to basket</button>\\n    </form>\\n\\n\\n                \\n            </div>\\n        \\n    </article>\\n\\n</li>\\n            \\n                <li class=\"col-xs-6 col-sm-4 col-md-3 col-lg-3\">\\n\\n\\n\\n\\n\\n\\n    <article class=\"product_pod\">\\n        \\n            <div class=\"image_container\">\\n                \\n                    \\n                    <a href=\"../the-dirty-little-secrets-of-getting-your-dream-job_994/index.html\"><img src=\"../../media/cache/92/27/92274a95b7c251fea59a2b8a78275ab4.jpg\" alt=\"The Dirty Little Secrets of Getting Your Dream Job\" class=\"thumbnail\"></a>\\n                    \\n                \\n            </div>\\n        \\n\\n        \\n            \\n                <p class=\"star-rating Four\">\\n                    <i class=\"icon-star\"></i>\\n                    <i class=\"icon-star\"></i>\\n                    <i class=\"icon-star\"></i>\\n                    <i class=\"icon-star\"></i>\\n                    <i class=\"icon-star\"></i>\\n                </p>\\n            \\n        \\n\\n        \\n            <h3><a href=\"../the-dirty-little-secrets-of-getting-your-dream-job_994/index.html\" title=\"The Dirty Little Secrets of Getting Your Dream Job\">The Dirty Little Secrets ...</a></h3>\\n        \\n\\n        \\n            <div class=\"product_price\">\\n                \\n\\n\\n\\n\\n\\n\\n    \\n        <p class=\"price_color\">\\xc2\\xa333.34</p>\\n    \\n\\n<p class=\"instock availability\">\\n    <i class=\"icon-ok\"></i>\\n    \\n        In stock\\n    \\n</p>\\n\\n                \\n                    \\n\\n\\n\\n\\n\\n\\n    \\n    <form>\\n        <button type=\"submit\" class=\"btn btn-primary btn-block\" data-loading-text=\"Adding...\">Add to basket</button>\\n    </form>\\n\\n\\n                \\n            </div>\\n        \\n    </article>\\n\\n</li>\\n            \\n        </ul>\\n    \\n\\n\\n\\n</article><!-- End of product page -->\\n</div>\\n                </div>\\n            </div>\\n        </div>\\n    \\n\\n    \\n<footer class=\"footer container-fluid\">\\n    \\n        \\n    \\n</footer>\\n\\n\\n        \\n        \\n  \\n            <!-- jQuery -->\\n            <script src=\"http://ajax.googleapis.com/ajax/libs/jquery/1.9.1/jquery.min.js\"></script>\\n            <script>window.jQuery || document.write(\\'<script src=\"../../static/oscar/js/jquery/jquery-1.9.1.min.js\"><\\\\/script>\\')</script>\\n        \\n  \\n\\n\\n        \\n        \\n    \\n        \\n    <!-- Twitter Bootstrap -->\\n    <script type=\"text/javascript\" src=\"../../static/oscar/js/bootstrap3/bootstrap.min.js\"></script>\\n    <!-- Oscar -->\\n    <script src=\"../../static/oscar/js/oscar/ui.js\" type=\"text/javascript\" charset=\"utf-8\"></script>\\n\\n    <script src=\"../../static/oscar/js/bootstrap-datetimepicker/bootstrap-datetimepicker.js\" type=\"text/javascript\" charset=\"utf-8\"></script>\\n    <script src=\"../../static/oscar/js/bootstrap-datetimepicker/locales/bootstrap-datetimepicker.all.js\" type=\"text/javascript\" charset=\"utf-8\"></script>\\n\\n\\n        \\n        \\n    \\n    \\n\\n    \\n\\n\\n\\n        \\n        <script type=\"text/javascript\">\\n            $(function() {\\n                \\n    \\n    oscar.init();\\n\\n            });\\n        </script>\\n\\n        \\n        <!-- Version: N/A -->\\n        \\n    </body>\\n</html>\\n'"
      ]
     },
     "execution_count": 103,
     "metadata": {},
     "output_type": "execute_result"
    }
   ],
   "source": [
    "response.content"
   ]
  },
  {
   "cell_type": "code",
   "execution_count": 104,
   "id": "1656f346-e2d5-43a5-b574-58908cc5a9cc",
   "metadata": {},
   "outputs": [
    {
     "data": {
      "text/plain": [
       "{'Date': 'Thu, 21 Nov 2024 10:34:53 GMT', 'Content-Type': 'text/html', 'Transfer-Encoding': 'chunked', 'Connection': 'keep-alive', 'Last-Modified': 'Wed, 08 Feb 2023 21:02:32 GMT', 'ETag': 'W/\"63e40de8-476e\"', 'Strict-Transport-Security': 'max-age=0; includeSubDomains; preload', 'Content-Encoding': 'br'}"
      ]
     },
     "execution_count": 104,
     "metadata": {},
     "output_type": "execute_result"
    }
   ],
   "source": [
    "response.headers"
   ]
  },
  {
   "cell_type": "code",
   "execution_count": 105,
   "id": "662b142d-498d-451b-87fd-dbb62434faea",
   "metadata": {},
   "outputs": [
    {
     "data": {
      "text/plain": [
       "{'Date': 'Thu, 21 Nov 2024 10:34:53 GMT',\n",
       " 'Content-Type': 'text/html',\n",
       " 'Transfer-Encoding': 'chunked',\n",
       " 'Connection': 'keep-alive',\n",
       " 'Last-Modified': 'Wed, 08 Feb 2023 21:02:32 GMT',\n",
       " 'ETag': 'W/\"63e40de8-476e\"',\n",
       " 'Strict-Transport-Security': 'max-age=0; includeSubDomains; preload',\n",
       " 'Content-Encoding': 'br'}"
      ]
     },
     "execution_count": 105,
     "metadata": {},
     "output_type": "execute_result"
    }
   ],
   "source": [
    "dict(response.headers)"
   ]
  },
  {
   "cell_type": "code",
   "execution_count": 106,
   "id": "e06c61fa-ccaa-4170-9482-e16536e5d06c",
   "metadata": {},
   "outputs": [],
   "source": [
    "from bs4 import BeautifulSoup\n",
    "\n",
    "\n",
    "soup = BeautifulSoup(response.content, \"html.parser\")"
   ]
  },
  {
   "cell_type": "code",
   "execution_count": 107,
   "id": "3fd0acbd-652a-476f-ac60-7ff1290a682b",
   "metadata": {},
   "outputs": [
    {
     "name": "stdout",
     "output_type": "stream",
     "text": [
      "<!DOCTYPE html>\n",
      "<!--[if lt IE 7]>      <html lang=\"en-us\" class=\"no-js lt-ie9 lt-ie8 lt-ie7\"> <![endif]-->\n",
      "<!--[if IE 7]>         <html lang=\"en-us\" class=\"no-js lt-ie9 lt-ie8\"> <![endif]-->\n",
      "<!--[if IE 8]>         <html lang=\"en-us\" class=\"no-js lt-ie9\"> <![endif]-->\n",
      "<!--[if gt IE 8]><!-->\n",
      "<html class=\"no-js\" lang=\"en-us\">\n",
      " <!--<![endif]-->\n",
      " <head>\n",
      "  <title>\n",
      "   Set Me Free | Books to Scrape - Sandbox\n",
      "  </title>\n",
      "  <meta content=\"text/html; charset=utf-8\" http-equiv=\"content-type\"/>\n",
      "  <meta content=\"24th Jun 2016 09:29\" name=\"created\"/>\n",
      "  <meta content=\"\n",
      "    Aaron Ledbetter’s future had been planned out for him since before he was born. Each year, the Ledbetter family vacation on Tybee Island gave Aaron a chance to briefly free himself from his family’s expectations. When he meets Jonas “Lucky” Luckett, a caricature artist in town with the traveling carnival, he must choose between the life that’s been mapped out for him, and Aaron Ledbetter’s future had been planned out for him since before he was born. Each year, the Ledbetter family vacation on Tybee Island gave Aaron a chance to briefly free himself from his family’s expectations. When he meets Jonas “Lucky” Luckett, a caricature artist in town with the traveling carnival, he must choose between the life that’s been mapped out for him, and the chance at true love. ...more\n",
      "\" name=\"description\"/>\n",
      "  <meta content=\"width=device-width\" name=\"viewport\"/>\n",
      "  <meta content=\"NOARCHIVE,NOCACHE\" name=\"robots\"/>\n",
      "  <!-- Le HTML5 shim, for IE6-8 support of HTML elements -->\n",
      "  <!--[if lt IE 9]>\n",
      "        <script src=\"//html5shim.googlecode.com/svn/trunk/html5.js\"></script>\n",
      "        <![endif]-->\n",
      "  <link href=\"../../static/oscar/favicon.ico\" rel=\"shortcut icon\"/>\n",
      "  <link href=\"../../static/oscar/css/styles.css\" rel=\"stylesheet\" type=\"text/css\"/>\n",
      "  <link href=\"../../static/oscar/js/bootstrap-datetimepicker/bootstrap-datetimepicker.css\" rel=\"stylesheet\"/>\n",
      "  <link href=\"../../static/oscar/css/datetimepicker.css\" rel=\"stylesheet\" type=\"text/css\"/>\n",
      " </head>\n",
      " <body class=\"default\" id=\"default\">\n",
      "  <header class=\"header container-fluid\">\n",
      "   <div class=\"page_inner\">\n",
      "    <div class=\"row\">\n",
      "     <div class=\"col-sm-8 h1\">\n",
      "      <a href=\"../../index.html\">\n",
      "       Books to Scrape\n",
      "      </a>\n",
      "      <small>\n",
      "       We love being scraped!\n",
      "      </small>\n",
      "     </div>\n",
      "    </div>\n",
      "   </div>\n",
      "  </header>\n",
      "  <div class=\"container-fluid page\">\n",
      "   <div class=\"page_inner\">\n",
      "    <ul class=\"breadcrumb\">\n",
      "     <li>\n",
      "      <a href=\"../../index.html\">\n",
      "       Home\n",
      "      </a>\n",
      "     </li>\n",
      "     <li>\n",
      "      <a href=\"../category/books_1/index.html\">\n",
      "       Books\n",
      "      </a>\n",
      "     </li>\n",
      "     <li>\n",
      "      <a href=\"../category/books/young-adult_21/index.html\">\n",
      "       Young Adult\n",
      "      </a>\n",
      "     </li>\n",
      "     <li class=\"active\">\n",
      "      Set Me Free\n",
      "     </li>\n",
      "    </ul>\n",
      "    <div id=\"messages\">\n",
      "    </div>\n",
      "    <div class=\"content\">\n",
      "     <div id=\"promotions\">\n",
      "     </div>\n",
      "     <div id=\"content_inner\">\n",
      "      <article class=\"product_page\">\n",
      "       <!-- Start of product page -->\n",
      "       <div class=\"row\">\n",
      "        <div class=\"col-sm-6\">\n",
      "         <div class=\"carousel\" id=\"product_gallery\">\n",
      "          <div class=\"thumbnail\">\n",
      "           <div class=\"carousel-inner\">\n",
      "            <div class=\"item active\">\n",
      "             <img alt=\"Set Me Free\" src=\"../../media/cache/b8/e9/b8e91bd2fc74c3954118999238abb4b8.jpg\"/>\n",
      "            </div>\n",
      "           </div>\n",
      "          </div>\n",
      "         </div>\n",
      "        </div>\n",
      "        <div class=\"col-sm-6 product_main\">\n",
      "         <h1>\n",
      "          Set Me Free\n",
      "         </h1>\n",
      "         <p class=\"price_color\">\n",
      "          £17.46\n",
      "         </p>\n",
      "         <p class=\"instock availability\">\n",
      "          <i class=\"icon-ok\">\n",
      "          </i>\n",
      "          In stock (19 available)\n",
      "         </p>\n",
      "         <p class=\"star-rating Five\">\n",
      "          <i class=\"icon-star\">\n",
      "          </i>\n",
      "          <i class=\"icon-star\">\n",
      "          </i>\n",
      "          <i class=\"icon-star\">\n",
      "          </i>\n",
      "          <i class=\"icon-star\">\n",
      "          </i>\n",
      "          <i class=\"icon-star\">\n",
      "          </i>\n",
      "          <!-- <small><a href=\"/catalogue/set-me-free_988/reviews/\">\n",
      "        \n",
      "                \n",
      "                    0 customer reviews\n",
      "                \n",
      "        </a></small>\n",
      "         -->\n",
      "          <!-- \n",
      "    <a id=\"write_review\" href=\"/catalogue/set-me-free_988/reviews/add/#addreview\" class=\"btn btn-success btn-sm\">\n",
      "        Write a review\n",
      "    </a>\n",
      "\n",
      " -->\n",
      "         </p>\n",
      "         <hr/>\n",
      "         <div class=\"alert alert-warning\" role=\"alert\">\n",
      "          <strong>\n",
      "           Warning!\n",
      "          </strong>\n",
      "          This is a demo website for web scraping purposes. Prices and ratings here were randomly assigned and have no real meaning.\n",
      "         </div>\n",
      "        </div>\n",
      "        <!-- /col-sm-6 -->\n",
      "       </div>\n",
      "       <!-- /row -->\n",
      "       <div class=\"sub-header\" id=\"product_description\">\n",
      "        <h2>\n",
      "         Product Description\n",
      "        </h2>\n",
      "       </div>\n",
      "       <p>\n",
      "        Aaron Ledbetter’s future had been planned out for him since before he was born. Each year, the Ledbetter family vacation on Tybee Island gave Aaron a chance to briefly free himself from his family’s expectations. When he meets Jonas “Lucky” Luckett, a caricature artist in town with the traveling carnival, he must choose between the life that’s been mapped out for him, and Aaron Ledbetter’s future had been planned out for him since before he was born. Each year, the Ledbetter family vacation on Tybee Island gave Aaron a chance to briefly free himself from his family’s expectations. When he meets Jonas “Lucky” Luckett, a caricature artist in town with the traveling carnival, he must choose between the life that’s been mapped out for him, and the chance at true love. ...more\n",
      "       </p>\n",
      "       <div class=\"sub-header\">\n",
      "        <h2>\n",
      "         Product Information\n",
      "        </h2>\n",
      "       </div>\n",
      "       <table class=\"table table-striped\">\n",
      "        <tr>\n",
      "         <th>\n",
      "          UPC\n",
      "         </th>\n",
      "         <td>\n",
      "          ce6396b0f23f6ecc\n",
      "         </td>\n",
      "        </tr>\n",
      "        <tr>\n",
      "         <th>\n",
      "          Product Type\n",
      "         </th>\n",
      "         <td>\n",
      "          Books\n",
      "         </td>\n",
      "        </tr>\n",
      "        <tr>\n",
      "         <th>\n",
      "          Price (excl. tax)\n",
      "         </th>\n",
      "         <td>\n",
      "          £17.46\n",
      "         </td>\n",
      "        </tr>\n",
      "        <tr>\n",
      "         <th>\n",
      "          Price (incl. tax)\n",
      "         </th>\n",
      "         <td>\n",
      "          £17.46\n",
      "         </td>\n",
      "        </tr>\n",
      "        <tr>\n",
      "         <th>\n",
      "          Tax\n",
      "         </th>\n",
      "         <td>\n",
      "          £0.00\n",
      "         </td>\n",
      "        </tr>\n",
      "        <tr>\n",
      "         <th>\n",
      "          Availability\n",
      "         </th>\n",
      "         <td>\n",
      "          In stock (19 available)\n",
      "         </td>\n",
      "        </tr>\n",
      "        <tr>\n",
      "         <th>\n",
      "          Number of reviews\n",
      "         </th>\n",
      "         <td>\n",
      "          0\n",
      "         </td>\n",
      "        </tr>\n",
      "       </table>\n",
      "       <section>\n",
      "        <div class=\"sub-header\" id=\"reviews\">\n",
      "        </div>\n",
      "       </section>\n",
      "       <div class=\"sub-header\">\n",
      "        <h2>\n",
      "         Products you recently viewed\n",
      "        </h2>\n",
      "       </div>\n",
      "       <ul class=\"row\">\n",
      "        <li class=\"col-xs-6 col-sm-4 col-md-3 col-lg-3\">\n",
      "         <article class=\"product_pod\">\n",
      "          <div class=\"image_container\">\n",
      "           <a href=\"../shakespeares-sonnets_989/index.html\">\n",
      "            <img alt=\"Shakespeare's Sonnets\" class=\"thumbnail\" src=\"../../media/cache/10/48/1048f63d3b5061cd2f424d20b3f9b666.jpg\"/>\n",
      "           </a>\n",
      "          </div>\n",
      "          <p class=\"star-rating Four\">\n",
      "           <i class=\"icon-star\">\n",
      "           </i>\n",
      "           <i class=\"icon-star\">\n",
      "           </i>\n",
      "           <i class=\"icon-star\">\n",
      "           </i>\n",
      "           <i class=\"icon-star\">\n",
      "           </i>\n",
      "           <i class=\"icon-star\">\n",
      "           </i>\n",
      "          </p>\n",
      "          <h3>\n",
      "           <a href=\"../shakespeares-sonnets_989/index.html\" title=\"Shakespeare's Sonnets\">\n",
      "            Shakespeare's Sonnets\n",
      "           </a>\n",
      "          </h3>\n",
      "          <div class=\"product_price\">\n",
      "           <p class=\"price_color\">\n",
      "            £20.66\n",
      "           </p>\n",
      "           <p class=\"instock availability\">\n",
      "            <i class=\"icon-ok\">\n",
      "            </i>\n",
      "            In stock\n",
      "           </p>\n",
      "           <form>\n",
      "            <button class=\"btn btn-primary btn-block\" data-loading-text=\"Adding...\" type=\"submit\">\n",
      "             Add to basket\n",
      "            </button>\n",
      "           </form>\n",
      "          </div>\n",
      "         </article>\n",
      "        </li>\n",
      "        <li class=\"col-xs-6 col-sm-4 col-md-3 col-lg-3\">\n",
      "         <article class=\"product_pod\">\n",
      "          <div class=\"image_container\">\n",
      "           <a href=\"../starving-hearts-triangular-trade-trilogy-1_990/index.html\">\n",
      "            <img alt=\"Starving Hearts (Triangular Trade Trilogy, #1)\" class=\"thumbnail\" src=\"../../media/cache/be/f4/bef44da28c98f905a3ebec0b87be8530.jpg\"/>\n",
      "           </a>\n",
      "          </div>\n",
      "          <p class=\"star-rating Two\">\n",
      "           <i class=\"icon-star\">\n",
      "           </i>\n",
      "           <i class=\"icon-star\">\n",
      "           </i>\n",
      "           <i class=\"icon-star\">\n",
      "           </i>\n",
      "           <i class=\"icon-star\">\n",
      "           </i>\n",
      "           <i class=\"icon-star\">\n",
      "           </i>\n",
      "          </p>\n",
      "          <h3>\n",
      "           <a href=\"../starving-hearts-triangular-trade-trilogy-1_990/index.html\" title=\"Starving Hearts (Triangular Trade Trilogy, #1)\">\n",
      "            Starving Hearts (Triangular Trade ...\n",
      "           </a>\n",
      "          </h3>\n",
      "          <div class=\"product_price\">\n",
      "           <p class=\"price_color\">\n",
      "            £13.99\n",
      "           </p>\n",
      "           <p class=\"instock availability\">\n",
      "            <i class=\"icon-ok\">\n",
      "            </i>\n",
      "            In stock\n",
      "           </p>\n",
      "           <form>\n",
      "            <button class=\"btn btn-primary btn-block\" data-loading-text=\"Adding...\" type=\"submit\">\n",
      "             Add to basket\n",
      "            </button>\n",
      "           </form>\n",
      "          </div>\n",
      "         </article>\n",
      "        </li>\n",
      "        <li class=\"col-xs-6 col-sm-4 col-md-3 col-lg-3\">\n",
      "         <article class=\"product_pod\">\n",
      "          <div class=\"image_container\">\n",
      "           <a href=\"../the-black-maria_991/index.html\">\n",
      "            <img alt=\"The Black Maria\" class=\"thumbnail\" src=\"../../media/cache/58/46/5846057e28022268153beff6d352b06c.jpg\"/>\n",
      "           </a>\n",
      "          </div>\n",
      "          <p class=\"star-rating One\">\n",
      "           <i class=\"icon-star\">\n",
      "           </i>\n",
      "           <i class=\"icon-star\">\n",
      "           </i>\n",
      "           <i class=\"icon-star\">\n",
      "           </i>\n",
      "           <i class=\"icon-star\">\n",
      "           </i>\n",
      "           <i class=\"icon-star\">\n",
      "           </i>\n",
      "          </p>\n",
      "          <h3>\n",
      "           <a href=\"../the-black-maria_991/index.html\" title=\"The Black Maria\">\n",
      "            The Black Maria\n",
      "           </a>\n",
      "          </h3>\n",
      "          <div class=\"product_price\">\n",
      "           <p class=\"price_color\">\n",
      "            £52.15\n",
      "           </p>\n",
      "           <p class=\"instock availability\">\n",
      "            <i class=\"icon-ok\">\n",
      "            </i>\n",
      "            In stock\n",
      "           </p>\n",
      "           <form>\n",
      "            <button class=\"btn btn-primary btn-block\" data-loading-text=\"Adding...\" type=\"submit\">\n",
      "             Add to basket\n",
      "            </button>\n",
      "           </form>\n",
      "          </div>\n",
      "         </article>\n",
      "        </li>\n",
      "        <li class=\"col-xs-6 col-sm-4 col-md-3 col-lg-3\">\n",
      "         <article class=\"product_pod\">\n",
      "          <div class=\"image_container\">\n",
      "           <a href=\"../the-boys-in-the-boat-nine-americans-and-their-epic-quest-for-gold-at-the-1936-berlin-olympics_992/index.html\">\n",
      "            <img alt=\"The Boys in the Boat: Nine Americans and Their Epic Quest for Gold at the 1936 Berlin Olympics\" class=\"thumbnail\" src=\"../../media/cache/66/88/66883b91f6804b2323c8369331cb7dd1.jpg\"/>\n",
      "           </a>\n",
      "          </div>\n",
      "          <p class=\"star-rating Four\">\n",
      "           <i class=\"icon-star\">\n",
      "           </i>\n",
      "           <i class=\"icon-star\">\n",
      "           </i>\n",
      "           <i class=\"icon-star\">\n",
      "           </i>\n",
      "           <i class=\"icon-star\">\n",
      "           </i>\n",
      "           <i class=\"icon-star\">\n",
      "           </i>\n",
      "          </p>\n",
      "          <h3>\n",
      "           <a href=\"../the-boys-in-the-boat-nine-americans-and-their-epic-quest-for-gold-at-the-1936-berlin-olympics_992/index.html\" title=\"The Boys in the Boat: Nine Americans and Their Epic Quest for Gold at the 1936 Berlin Olympics\">\n",
      "            The Boys in the ...\n",
      "           </a>\n",
      "          </h3>\n",
      "          <div class=\"product_price\">\n",
      "           <p class=\"price_color\">\n",
      "            £22.60\n",
      "           </p>\n",
      "           <p class=\"instock availability\">\n",
      "            <i class=\"icon-ok\">\n",
      "            </i>\n",
      "            In stock\n",
      "           </p>\n",
      "           <form>\n",
      "            <button class=\"btn btn-primary btn-block\" data-loading-text=\"Adding...\" type=\"submit\">\n",
      "             Add to basket\n",
      "            </button>\n",
      "           </form>\n",
      "          </div>\n",
      "         </article>\n",
      "        </li>\n",
      "        <li class=\"col-xs-6 col-sm-4 col-md-3 col-lg-3\">\n",
      "         <article class=\"product_pod\">\n",
      "          <div class=\"image_container\">\n",
      "           <a href=\"../the-coming-woman-a-novel-based-on-the-life-of-the-infamous-feminist-victoria-woodhull_993/index.html\">\n",
      "            <img alt=\"The Coming Woman: A Novel Based on the Life of the Infamous Feminist, Victoria Woodhull\" class=\"thumbnail\" src=\"../../media/cache/3d/54/3d54940e57e662c4dd1f3ff00c78cc64.jpg\"/>\n",
      "           </a>\n",
      "          </div>\n",
      "          <p class=\"star-rating Three\">\n",
      "           <i class=\"icon-star\">\n",
      "           </i>\n",
      "           <i class=\"icon-star\">\n",
      "           </i>\n",
      "           <i class=\"icon-star\">\n",
      "           </i>\n",
      "           <i class=\"icon-star\">\n",
      "           </i>\n",
      "           <i class=\"icon-star\">\n",
      "           </i>\n",
      "          </p>\n",
      "          <h3>\n",
      "           <a href=\"../the-coming-woman-a-novel-based-on-the-life-of-the-infamous-feminist-victoria-woodhull_993/index.html\" title=\"The Coming Woman: A Novel Based on the Life of the Infamous Feminist, Victoria Woodhull\">\n",
      "            The Coming Woman: A ...\n",
      "           </a>\n",
      "          </h3>\n",
      "          <div class=\"product_price\">\n",
      "           <p class=\"price_color\">\n",
      "            £17.93\n",
      "           </p>\n",
      "           <p class=\"instock availability\">\n",
      "            <i class=\"icon-ok\">\n",
      "            </i>\n",
      "            In stock\n",
      "           </p>\n",
      "           <form>\n",
      "            <button class=\"btn btn-primary btn-block\" data-loading-text=\"Adding...\" type=\"submit\">\n",
      "             Add to basket\n",
      "            </button>\n",
      "           </form>\n",
      "          </div>\n",
      "         </article>\n",
      "        </li>\n",
      "        <li class=\"col-xs-6 col-sm-4 col-md-3 col-lg-3\">\n",
      "         <article class=\"product_pod\">\n",
      "          <div class=\"image_container\">\n",
      "           <a href=\"../the-dirty-little-secrets-of-getting-your-dream-job_994/index.html\">\n",
      "            <img alt=\"The Dirty Little Secrets of Getting Your Dream Job\" class=\"thumbnail\" src=\"../../media/cache/92/27/92274a95b7c251fea59a2b8a78275ab4.jpg\"/>\n",
      "           </a>\n",
      "          </div>\n",
      "          <p class=\"star-rating Four\">\n",
      "           <i class=\"icon-star\">\n",
      "           </i>\n",
      "           <i class=\"icon-star\">\n",
      "           </i>\n",
      "           <i class=\"icon-star\">\n",
      "           </i>\n",
      "           <i class=\"icon-star\">\n",
      "           </i>\n",
      "           <i class=\"icon-star\">\n",
      "           </i>\n",
      "          </p>\n",
      "          <h3>\n",
      "           <a href=\"../the-dirty-little-secrets-of-getting-your-dream-job_994/index.html\" title=\"The Dirty Little Secrets of Getting Your Dream Job\">\n",
      "            The Dirty Little Secrets ...\n",
      "           </a>\n",
      "          </h3>\n",
      "          <div class=\"product_price\">\n",
      "           <p class=\"price_color\">\n",
      "            £33.34\n",
      "           </p>\n",
      "           <p class=\"instock availability\">\n",
      "            <i class=\"icon-ok\">\n",
      "            </i>\n",
      "            In stock\n",
      "           </p>\n",
      "           <form>\n",
      "            <button class=\"btn btn-primary btn-block\" data-loading-text=\"Adding...\" type=\"submit\">\n",
      "             Add to basket\n",
      "            </button>\n",
      "           </form>\n",
      "          </div>\n",
      "         </article>\n",
      "        </li>\n",
      "       </ul>\n",
      "      </article>\n",
      "      <!-- End of product page -->\n",
      "     </div>\n",
      "    </div>\n",
      "   </div>\n",
      "  </div>\n",
      "  <footer class=\"footer container-fluid\">\n",
      "  </footer>\n",
      "  <!-- jQuery -->\n",
      "  <script src=\"http://ajax.googleapis.com/ajax/libs/jquery/1.9.1/jquery.min.js\">\n",
      "  </script>\n",
      "  <script>\n",
      "   window.jQuery || document.write('<script src=\"../../static/oscar/js/jquery/jquery-1.9.1.min.js\"><\\/script>')\n",
      "  </script>\n",
      "  <!-- Twitter Bootstrap -->\n",
      "  <script src=\"../../static/oscar/js/bootstrap3/bootstrap.min.js\" type=\"text/javascript\">\n",
      "  </script>\n",
      "  <!-- Oscar -->\n",
      "  <script charset=\"utf-8\" src=\"../../static/oscar/js/oscar/ui.js\" type=\"text/javascript\">\n",
      "  </script>\n",
      "  <script charset=\"utf-8\" src=\"../../static/oscar/js/bootstrap-datetimepicker/bootstrap-datetimepicker.js\" type=\"text/javascript\">\n",
      "  </script>\n",
      "  <script charset=\"utf-8\" src=\"../../static/oscar/js/bootstrap-datetimepicker/locales/bootstrap-datetimepicker.all.js\" type=\"text/javascript\">\n",
      "  </script>\n",
      "  <script type=\"text/javascript\">\n",
      "   $(function() {\n",
      "                \n",
      "    \n",
      "    oscar.init();\n",
      "\n",
      "            });\n",
      "  </script>\n",
      "  <!-- Version: N/A -->\n",
      " </body>\n",
      "</html>\n",
      "\n"
     ]
    }
   ],
   "source": [
    "print(soup.prettify())"
   ]
  },
  {
   "attachments": {
    "27784a8c-86bb-486c-89db-276cf416e2d2.png": {
     "image/png": "[encoded data removed]"
    }
   },
   "cell_type": "markdown",
   "id": "1299de6b-afa3-48e8-866e-231366839c87",
   "metadata": {},
   "source": [
    "![Screenshot 2024-11-21 110611.png](attachment:27784a8c-86bb-486c-89db-276cf416e2d2.png)"
   ]
  },
  {
   "cell_type": "code",
   "execution_count": 117,
   "id": "6a2d97f1-d963-4b30-84ed-b9fb32fc7791",
   "metadata": {},
   "outputs": [
    {
     "data": {
      "text/plain": [
       "'Set Me Free'"
      ]
     },
     "execution_count": 117,
     "metadata": {},
     "output_type": "execute_result"
    }
   ],
   "source": [
    "title=soup.find(\"li\", class_=\"active\").text.strip()\n",
    "title"
   ]
  },
  {
   "cell_type": "code",
   "execution_count": 148,
   "id": "94002ad5-bb15-4be4-baf8-33449f912bd9",
   "metadata": {},
   "outputs": [
    {
     "data": {
      "text/plain": [
       "'Young Adult'"
      ]
     },
     "execution_count": 148,
     "metadata": {},
     "output_type": "execute_result"
    }
   ],
   "source": [
    "li_tags=soup.find_all(\"li\")[2].text.strip()\n",
    "li_tags\n"
   ]
  },
  {
   "attachments": {
    "7aaa4107-acb2-494a-9f45-4f856f7ed088.png": {
     "image/png": "[encoded data removed]"
    }
   },
   "cell_type": "markdown",
   "id": "4f9c2d11-6d21-40a0-b911-783cf3c66aee",
   "metadata": {},
   "source": [
    "![Screenshot 2024-11-21 114016.png](attachment:7aaa4107-acb2-494a-9f45-4f856f7ed088.png)"
   ]
  },
  {
   "cell_type": "code",
   "execution_count": 114,
   "id": "3840581a-00a7-4c56-8f24-61539b642fbd",
   "metadata": {},
   "outputs": [
    {
     "data": {
      "text/plain": [
       "'17.46'"
      ]
     },
     "execution_count": 114,
     "metadata": {},
     "output_type": "execute_result"
    }
   ],
   "source": [
    "price=soup.find(\"p\", class_=\"price_color\").text.strip(\"£\")\n",
    "price"
   ]
  },
  {
   "cell_type": "code",
   "execution_count": 123,
   "id": "cb9dd11e-d1d5-47f3-b406-18a3822a68f8",
   "metadata": {},
   "outputs": [
    {
     "data": {
      "text/plain": [
       "'In stock (19 available)'"
      ]
     },
     "execution_count": 123,
     "metadata": {},
     "output_type": "execute_result"
    }
   ],
   "source": [
    "in_stock=soup.find_all(\"p\")\n",
    "availability=in_stock[1].text.strip()\n",
    "availability"
   ]
  },
  {
   "cell_type": "code",
   "execution_count": 132,
   "id": "226d4989-7e27-4775-b83c-bf5177986d8c",
   "metadata": {},
   "outputs": [
    {
     "data": {
      "text/plain": [
       "'Aaron Ledbetter’s future had been planned out for him since before he was born. Each year, the Ledbetter family vacation on Tybee Island gave Aaron a chance to briefly free himself from his family’s expectations. When he meets Jonas “Lucky” Luckett, a caricature artist in town with the traveling carnival, he must choose between the life that’s been mapped out for him, and Aaron Ledbetter’s future had been planned out for him since before he was born. Each year, the Ledbetter family vacation on Tybee Island gave Aaron a chance to briefly free himself from his family’s expectations. When he meets Jonas “Lucky” Luckett, a caricature artist in town with the traveling carnival, he must choose between the life that’s been mapped out for him, and the chance at true lov'"
      ]
     },
     "execution_count": 132,
     "metadata": {},
     "output_type": "execute_result"
    }
   ],
   "source": [
    "soup.find_all(\"p\")\n",
    "desc=soup.find_all(\"p\")[3].text.strip(\"<p> ...more</p>\")\n",
    "desc"
   ]
  },
  {
   "cell_type": "code",
   "execution_count": 139,
   "id": "68253318-78d0-4ed3-8639-22b5187d06c0",
   "metadata": {},
   "outputs": [
    {
     "data": {
      "text/plain": [
       "'ce6396b0f23f6ecc'"
      ]
     },
     "execution_count": 139,
     "metadata": {},
     "output_type": "execute_result"
    }
   ],
   "source": [
    "\n",
    "upc=soup.find_all(\"td\")[0].text.strip(\"<td></td>\")\n",
    "upc"
   ]
  },
  {
   "cell_type": "code",
   "execution_count": 141,
   "id": "7e168d1d-4281-44ec-9094-a086952a3e59",
   "metadata": {},
   "outputs": [
    {
     "ename": "AttributeError",
     "evalue": "'NoneType' object has no attribute 'text'",
     "output_type": "error",
     "traceback": [
      "\u001b[1;31m---------------------------------------------------------------------------\u001b[0m",
      "\u001b[1;31mAttributeError\u001b[0m                            Traceback (most recent call last)",
      "Cell \u001b[1;32mIn[141], line 14\u001b[0m\n\u001b[0;32m     11\u001b[0m components\u001b[38;5;241m=\u001b[39m soup\u001b[38;5;241m.\u001b[39mfind_all(\u001b[38;5;124m\"\u001b[39m\u001b[38;5;124marticle\u001b[39m\u001b[38;5;124m\"\u001b[39m, class_\u001b[38;5;241m=\u001b[39m \u001b[38;5;124m\"\u001b[39m\u001b[38;5;124mproduct_page\u001b[39m\u001b[38;5;124m\"\u001b[39m)\n\u001b[0;32m     13\u001b[0m \u001b[38;5;28;01mfor\u001b[39;00m component \u001b[38;5;129;01min\u001b[39;00m components:\n\u001b[1;32m---> 14\u001b[0m     title\u001b[38;5;241m=\u001b[39mcomponent\u001b[38;5;241m.\u001b[39mfind(\u001b[38;5;124m\"\u001b[39m\u001b[38;5;124mli\u001b[39m\u001b[38;5;124m\"\u001b[39m, class_\u001b[38;5;241m=\u001b[39m\u001b[38;5;124m\"\u001b[39m\u001b[38;5;124mactive\u001b[39m\u001b[38;5;124m\"\u001b[39m)\u001b[38;5;241m.\u001b[39mtext\u001b[38;5;241m.\u001b[39mstrip()\n\u001b[0;32m     15\u001b[0m     Titles\u001b[38;5;241m.\u001b[39mappend(title)\n\u001b[0;32m     16\u001b[0m     li_tags\u001b[38;5;241m=\u001b[39mcomponent\u001b[38;5;241m.\u001b[39mfind_all(\u001b[38;5;124m\"\u001b[39m\u001b[38;5;124mli\u001b[39m\u001b[38;5;124m\"\u001b[39m)\n",
      "\u001b[1;31mAttributeError\u001b[0m: 'NoneType' object has no attribute 'text'"
     ]
    }
   ],
   "source": [
    "import pandas as pd\n",
    "\n",
    "UPC=[]\n",
    "Title=[]\n",
    "Price=[]\n",
    "Genre=[]\n",
    "Rating=[]\n",
    "Availability=[]\n",
    "Description=[]\n",
    "\n",
    "components= soup.find_all(\"article\", class_= \"product_page\")\n",
    "\n",
    "for component in components:\n",
    "    title=component.find(\"li\", class_=\"active\").text.strip()\n",
    "    Titles.append(title)\n",
    "    li_tags=component.find_all(\"li\")\n",
    "    genre=li_tags[2].text.strip()\n",
    "    Genre.append(genre)\n",
    "    price=component.find(\"p\", class_=\"price_color\").text.strip(\"£\")\n",
    "    Price.append(price)\n",
    "    in_stock=component.find_all(\"p\")\n",
    "    availability=in_stock[1].text.strip()\n",
    "    Availability.append(availability)\n",
    "    upc=component.find_all(\"td\")[0].text.strip(\"<td></td>\")\n",
    "    UPC.append(upc)\n",
    "    descr=component.find_all(\"p\")[3].text.strip(\"<p> ...more</p>\")\n",
    "    Description.append(description)\n",
    "\n",
    "Book_df=pd.DataFrame({\n",
    "    \"Titles\":Titles,\n",
    "    \"Genre\":Genre,\n",
    "    \"Price\":Price,\n",
    "    \"Availability\":Availability,\n",
    "    \"UPC\":UPC ,\n",
    "    \"Description\": Description\n",
    "})\n",
    "\n"
   ]
  },
  {
   "cell_type": "code",
   "execution_count": 149,
   "id": "d2a3c0d1-df03-4284-9b0d-ee07cf87c245",
   "metadata": {},
   "outputs": [],
   "source": [
    "import pandas as pd\n",
    "\n",
    "UPC=[]\n",
    "Title=[]\n",
    "Price=[]\n",
    "Genre=[]\n",
    "Rating=[]\n",
    "Availability=[]\n",
    "Description=[]\n",
    "\n",
    "components= soup.find_all(\"article\", class_= \"product_page\")\n",
    "\n",
    "\n",
    "\n",
    "\n",
    "for component in components:\n",
    "    title_tag = component.find(\"li\", class_=\"active\")\n",
    "    if title_tag:  # Ensures title_tag is not None\n",
    "        title = title_tag.text.strip()\n",
    "        Title.append(title)\n",
    "    else:\n",
    "        Title.append(None)  # or another placeholder value\n",
    "\n",
    "    li_tags = component.find_all(\"li\")[2].text.strip()\n",
    "    Genre.append(li_tags)\n",
    "\n",
    "    price = component.find(\"p\", class_=\"price_color\").text.strip(\"£\")\n",
    "    Price.append(price)\n",
    "\n",
    "    in_stock = component.find_all(\"p\")\n",
    "    availability = in_stock[1].text.strip()\n",
    "    Availability.append(availability)\n",
    "\n",
    "    upc = component.find_all(\"td\")[0].text.strip(\"<td></td>\")\n",
    "    UPC.append(upc)\n",
    "\n",
    "    descr = component.find_all(\"p\")[3].text.strip(\"<p> ...more</p>\")\n",
    "    Description.append(descr)\n",
    "\n",
    "Book_df=pd.DataFrame({\n",
    "    \"Titles\":Title,\n",
    "    \"Genre\":Genre,\n",
    "    \"Price\":Price,\n",
    "    \"Availability\":Availability,\n",
    "    \"UPC\":UPC ,\n",
    "    \"Description\": Description\n",
    "})\n",
    "\n"
   ]
  },
  {
   "cell_type": "code",
   "execution_count": 151,
   "id": "81b41cec-55d3-443b-8b41-9f2a0a787f18",
   "metadata": {},
   "outputs": [
    {
     "data": {
      "text/html": [
       "<div>\n",
       "<style scoped>\n",
       "    .dataframe tbody tr th:only-of-type {\n",
       "        vertical-align: middle;\n",
       "    }\n",
       "\n",
       "    .dataframe tbody tr th {\n",
       "        vertical-align: top;\n",
       "    }\n",
       "\n",
       "    .dataframe thead th {\n",
       "        text-align: right;\n",
       "    }\n",
       "</style>\n",
       "<table border=\"1\" class=\"dataframe\">\n",
       "  <thead>\n",
       "    <tr style=\"text-align: right;\">\n",
       "      <th></th>\n",
       "      <th>Titles</th>\n",
       "      <th>Genre</th>\n",
       "      <th>Price</th>\n",
       "      <th>Availability</th>\n",
       "      <th>UPC</th>\n",
       "      <th>Description</th>\n",
       "    </tr>\n",
       "  </thead>\n",
       "  <tbody>\n",
       "    <tr>\n",
       "      <th>0</th>\n",
       "      <td>None</td>\n",
       "      <td>The Black Maria\\n\\n£52.15\\n\\n\\n    \\n        I...</td>\n",
       "      <td>17.46</td>\n",
       "      <td>In stock (19 available)</td>\n",
       "      <td>ce6396b0f23f6ecc</td>\n",
       "      <td>Aaron Ledbetter’s future had been planned out ...</td>\n",
       "    </tr>\n",
       "  </tbody>\n",
       "</table>\n",
       "</div>"
      ],
      "text/plain": [
       "  Titles                                              Genre  Price  \\\n",
       "0   None  The Black Maria\\n\\n£52.15\\n\\n\\n    \\n        I...  17.46   \n",
       "\n",
       "              Availability               UPC  \\\n",
       "0  In stock (19 available)  ce6396b0f23f6ecc   \n",
       "\n",
       "                                         Description  \n",
       "0  Aaron Ledbetter’s future had been planned out ...  "
      ]
     },
     "execution_count": 151,
     "metadata": {},
     "output_type": "execute_result"
    }
   ],
   "source": [
    "Book_df"
   ]
  },
  {
   "cell_type": "code",
   "execution_count": null,
   "id": "d75a2967-974b-43e4-b3af-f5424aa0cb9c",
   "metadata": {},
   "outputs": [],
   "source": []
  }
 ],
 "metadata": {
  "colab": {
   "provenance": []
  },
  "kernelspec": {
   "display_name": "Python 3 (ipykernel)",
   "language": "python",
   "name": "python3"
  },
  "language_info": {
   "codemirror_mode": {
    "name": "ipython",
    "version": 3
   },
   "file_extension": ".py",
   "mimetype": "text/x-python",
   "name": "python",
   "nbconvert_exporter": "python",
   "pygments_lexer": "ipython3",
   "version": "3.12.7"
  }
 },
 "nbformat": 4,
 "nbformat_minor": 5
}
